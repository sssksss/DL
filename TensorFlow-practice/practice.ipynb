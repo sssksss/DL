{
 "cells": [
  {
   "cell_type": "code",
   "execution_count": 2,
   "metadata": {},
   "outputs": [],
   "source": [
    "import tensorflow as tf"
   ]
  },
  {
   "cell_type": "code",
   "execution_count": 14,
   "metadata": {},
   "outputs": [
    {
     "name": "stdout",
     "output_type": "stream",
     "text": [
      "[2 3 4]\n"
     ]
    }
   ],
   "source": [
    "import numpy as np\n",
    "\n",
    "a=np.array([2,3,4])\n",
    "print(a)\n",
    "w = tf.Variable(a)"
   ]
  },
  {
   "cell_type": "code",
   "execution_count": 44,
   "metadata": {},
   "outputs": [
    {
     "name": "stdout",
     "output_type": "stream",
     "text": [
      "[2 3 4]\n"
     ]
    }
   ],
   "source": [
    "#全局变量初始化\n",
    "init_op = tf.global_variables_initializer()\n",
    "sess = tf.Session()\n",
    "with sess.as_default():\n",
    "    sess.run(init_op)\n",
    "    print (w.eval())"
   ]
  },
  {
   "cell_type": "code",
   "execution_count": 45,
   "metadata": {},
   "outputs": [
    {
     "name": "stdout",
     "output_type": "stream",
     "text": [
      "a + b = 15.0\n",
      "a/b = 0.5\n"
     ]
    }
   ],
   "source": [
    "a = tf.Variable(5.0)\n",
    "b = tf.Variable(10.0)\n",
    "\n",
    "x = tf.add(a, b, name=\"add\")\n",
    "y = tf.div(a, b, name=\"divide\")\n",
    "init_op = tf.global_variables_initializer()\n",
    "with tf.Session() as sess:\n",
    "    sess.run(init_op)\n",
    "    print(\"a + b =\", sess.run(x))\n",
    "    print(\"a/b =\", y.eval())"
   ]
  },
  {
   "cell_type": "code",
   "execution_count": 48,
   "metadata": {},
   "outputs": [
    {
     "name": "stdout",
     "output_type": "stream",
     "text": [
      "[array([14.], dtype=float32)]\n"
     ]
    }
   ],
   "source": [
    "input1 = tf.placeholder(tf.float32)\n",
    "input2 = tf.placeholder(tf.float32)\n",
    "output = tf.multiply(input1, input2)\n",
    "\n",
    "with tf.Session() as sess:\n",
    "  print(sess.run([output], feed_dict={input1:[7.], input2:[2.]}))"
   ]
  },
  {
   "cell_type": "code",
   "execution_count": 51,
   "metadata": {},
   "outputs": [
    {
     "data": {
      "image/png": "[encoded data removed]",
      "text/plain": [
       "<Figure size 432x288 with 1 Axes>"
      ]
     },
     "metadata": {},
     "output_type": "display_data"
    }
   ],
   "source": [
    "import matplotlib.pyplot as plt\n",
    "\n",
    "# 随机生成1000个点，围绕在y=0.1x+0.3的直线周围\n",
    "num_points = 1000\n",
    "vectors_set = []\n",
    "for i in range(num_points):\n",
    "    x1 = np.random.normal(0.0, 0.55)\n",
    "    y1 = x1 * 0.1 + 0.3 + np.random.normal(0.0, 0.03)\n",
    "    vectors_set.append([x1, y1])\n",
    "\n",
    "# 生成一些样本\n",
    "x_data = [v[0] for v in vectors_set]\n",
    "y_data = [v[1] for v in vectors_set]\n",
    "\n",
    "plt.scatter(x_data,y_data,c='r')\n",
    "plt.show()"
   ]
  },
  {
   "cell_type": "code",
   "execution_count": 64,
   "metadata": {},
   "outputs": [
    {
     "name": "stdout",
     "output_type": "stream",
     "text": [
      "初始W= [-0.6967883] 初始b= [0.]\n",
      "W= [-0.5985104] b= [0.12243439] loss= 0.18234876\n",
      "W= [-0.51269203] b= [0.19557457] loss= 0.12648867\n",
      "W= [-0.43764353] b= [0.23917882] loss= 0.09250324\n",
      "W= [-0.3719469] b= [0.26509666] loss= 0.06958796\n",
      "W= [-0.31439686] b= [0.28043312] loss= 0.05311759\n",
      "W= [-0.26395917] b= [0.28944734] loss= 0.040860634\n",
      "W= [-0.2197404] b= [0.2946914] loss= 0.031577785\n",
      "W= [-0.18096513] b= [0.29769367] loss= 0.024487287\n",
      "W= [-0.146958] b= [0.29936856] loss= 0.019049373\n",
      "W= [-0.11712956] b= [0.3002626] loss= 0.014870895\n",
      "W= [-0.0909645] b= [0.30070177] loss= 0.011657289\n",
      "W= [-0.06801175] b= [0.30087996] loss= 0.009184713\n",
      "W= [-0.04787626] b= [0.30091202] loss= 0.0072819153\n",
      "W= [-0.03021184] b= [0.3008656] loss= 0.0058174627\n",
      "W= [-0.01471498] b= [0.30078015] loss= 0.0046903263\n",
      "W= [-0.00111957] b= [0.30067834] loss= 0.0038227912\n",
      "W= [0.0108078] b= [0.30057293] loss= 0.0031550608\n",
      "W= [0.02127182] b= [0.3004708] loss= 0.0026411153\n",
      "W= [0.03045207] b= [0.30037537] loss= 0.0022455356\n",
      "W= [0.03850605] b= [0.3002882] loss= 0.0019410606\n"
     ]
    }
   ],
   "source": [
    "W = tf.Variable(tf.random_uniform([1], -1.0, 1.0), name='W')\n",
    "b = tf.Variable(tf.zeros([1]), name='b')\n",
    "y=W*x_data+b\n",
    "\n",
    "#定义损失函数\n",
    "loss = tf.reduce_mean(tf.square(y-y_data))\n",
    "\n",
    "train = tf.train.GradientDescentOptimizer(0.2).minimize(loss)\n",
    "\n",
    "init = tf.global_variables_initializer()\n",
    "\n",
    "with tf.Session() as sess:\n",
    "    sess.run(init)\n",
    "    print('初始W=',W.eval(),'初始b=',b.eval())\n",
    "    for step in range(20):\n",
    "        sess.run(train)\n",
    "        print('W=',W.eval(),'b=',b.eval(),'loss=',sess.run(loss))"
   ]
  },
  {
   "cell_type": "code",
   "execution_count": null,
   "metadata": {},
   "outputs": [],
   "source": []
  }
 ],
 "metadata": {
  "kernelspec": {
   "display_name": "Python 3",
   "language": "python",
   "name": "python3"
  },
  "language_info": {
   "codemirror_mode": {
    "name": "ipython",
    "version": 3
   },
   "file_extension": ".py",
   "mimetype": "text/x-python",
   "name": "python",
   "nbconvert_exporter": "python",
   "pygments_lexer": "ipython3",
   "version": "3.5.3"
  }
 },
 "nbformat": 4,
 "nbformat_minor": 1
}
